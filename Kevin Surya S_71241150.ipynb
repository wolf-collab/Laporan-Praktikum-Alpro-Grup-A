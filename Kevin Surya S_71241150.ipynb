{
 "cells": [
  {
   "cell_type": "code",
   "execution_count": 17,
   "id": "830fdf55-4d1d-447b-a62b-d790e00e40b9",
   "metadata": {},
   "outputs": [
    {
     "name": "stdout",
     "output_type": "stream",
     "text": [
      "Kalkulator BMI, Mari Kita Hitung!\n"
     ]
    },
    {
     "name": "stdin",
     "output_type": "stream",
     "text": [
      "Masukkkan Berat Badan Anda (Kg):  68\n",
      "Masukkan Tinggi Badan Anda (M):  1.65\n"
     ]
    },
    {
     "name": "stdout",
     "output_type": "stream",
     "text": [
      "17.53\n"
     ]
    }
   ],
   "source": [
    "#Latihan 2.1 Kalkulator BMI\n",
    "print(\"Kalkulator BMI, Mari Kita Hitung!\")\n",
    "x = float(input(\"Masukkkan Berat Badan Anda (Kg): \"))\n",
    "y = float(input(\"Masukkan Tinggi Badan Anda (M): \"))\n",
    "#Menghitung Rumus BMI\n",
    "nilai_bmi = round(x / (y ** 2), 2)\n",
    "print(rumus_bmi)"
   ]
  },
  {
   "cell_type": "code",
   "execution_count": 38,
   "id": "0ee298e1-a30b-4c28-812b-24cd442a71a4",
   "metadata": {},
   "outputs": [
    {
     "name": "stdout",
     "output_type": "stream",
     "text": [
      "Masukkan Angka yang Anda Inginkan untuk fungsi f(x) = 2x^3 + 2x + 15/x\n"
     ]
    },
    {
     "name": "stdin",
     "output_type": "stream",
     "text": [
      "X =  13\n"
     ]
    },
    {
     "name": "stdout",
     "output_type": "stream",
     "text": [
      "Maka hasil dari fungsi tersebut adalah: 4421.153846\n"
     ]
    }
   ],
   "source": [
    "#Latihan 2.2 Menghitung Fungsi\n",
    "print(\"Masukkan Angka yang Anda Inginkan untuk fungsi f(x) = 2x^3 + 2x + 15/x\")\n",
    "x = int(input(\"X = \"))\n",
    "#rumus\n",
    "hitung_fungsi = round(((2 * (x ** 3)) + 2 * x + 15 / x), 6)\n",
    "print(\"Maka hasil dari fungsi tersebut adalah:\",hitung_fungsi)"
   ]
  },
  {
   "cell_type": "code",
   "execution_count": 54,
   "id": "aa42b94e-7ee8-4912-b821-9b44f59295dc",
   "metadata": {},
   "outputs": [
    {
     "name": "stdin",
     "output_type": "stream",
     "text": [
      "Gaji per jam Budi adalah: Rp.  50000\n",
      "Jam kerja Budi per minggu adalah:  15\n"
     ]
    },
    {
     "name": "stdout",
     "output_type": "stream",
     "text": [
      "Pendapatan Budi sebelum membayar pajak: Rp.  3750000.0\n",
      "Pendapatan Budi setelah Pajak: Rp.  3225000.0\n",
      "Biaya yang dihabiskan Budi untuk membeli pakaian dan aksesoris: Rp.  322500.0\n",
      "Biaya yang dihabiskan Budi untuk membeli alat tulis: Rp.  32250.0\n",
      "Banyak Uang yang akan Budi sedekahkan: Rp.  717562.5\n",
      "Banyak Uang yang akan diterima Anak Yatim: Rp.  215268.75\n",
      "Banyak Uang yang akan diterima Kaum Dhuafa: Rp.  502293.75\n"
     ]
    }
   ],
   "source": [
    "#gaji perjam, kerja selama 5 minggu\n",
    "#Input:\n",
    "minggu = 5\n",
    "gaji_perjam = float(input(\"Gaji per jam Budi adalah: Rp. \"))\n",
    "banyak_jamkerja = float(input(\"Jam kerja Budi per minggu adalah: \"))\n",
    "jumlah_total_jamkerja = minggu * banyak_jamkerja\n",
    "pendapatan_kotor = gaji_perjam * jumlah_total_jamkerja\n",
    "pajak = 0.14 * pendapatan_kotor\n",
    "pendapatan_bersih = pendapatan_kotor - pajak\n",
    "\n",
    "#Pengeluaran\n",
    "baju_aksesoris = 0.1 * pendapatan_bersih\n",
    "alat_tulis = 0.01 * pendapatan_bersih\n",
    "sisa_gaji = pendapatan_bersih - baju_aksesoris - alat_tulis\n",
    "sedekah = 0.25 * sisa_gaji\n",
    "yatim = 0.30 * sedekah\n",
    "dhuafa = sedekah - yatim\n",
    "\n",
    "#Output\n",
    "print(\"Pendapatan Budi sebelum membayar pajak: Rp. \", pendapatan_kotor)\n",
    "print(\"Pendapatan Budi setelah Pajak: Rp. \", pendapatan_bersih)\n",
    "print(\"Biaya yang dihabiskan Budi untuk membeli pakaian dan aksesoris: Rp. \", baju_aksesoris)\n",
    "print(\"Biaya yang dihabiskan Budi untuk membeli alat tulis: Rp. \", alat_tulis)\n",
    "print(\"Banyak Uang yang akan Budi sedekahkan: Rp. \", sedekah)\n",
    "print(\"Banyak Uang yang akan diterima Anak Yatim: Rp. \", yatim)\n",
    "print(\"Banyak Uang yang akan diterima Kaum Dhuafa: Rp. \", dhuafa)"
   ]
  },
  {
   "cell_type": "code",
   "execution_count": null,
   "id": "616ffe61-b58c-4ccf-9d0c-211ae3df5374",
   "metadata": {},
   "outputs": [],
   "source": []
  }
 ],
 "metadata": {
  "kernelspec": {
   "display_name": "Python 3 (ipykernel)",
   "language": "python",
   "name": "python3"
  },
  "language_info": {
   "codemirror_mode": {
    "name": "ipython",
    "version": 3
   },
   "file_extension": ".py",
   "mimetype": "text/x-python",
   "name": "python",
   "nbconvert_exporter": "python",
   "pygments_lexer": "ipython3",
   "version": "3.12.7"
  }
 },
 "nbformat": 4,
 "nbformat_minor": 5
}
