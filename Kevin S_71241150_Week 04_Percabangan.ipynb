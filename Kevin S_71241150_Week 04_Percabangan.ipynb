{
 "cells": [
  {
   "cell_type": "code",
   "execution_count": 11,
   "id": "2d5e227a-91a3-48f1-89a0-6b1ab10a6a22",
   "metadata": {},
   "outputs": [
    {
     "name": "stdin",
     "output_type": "stream",
     "text": [
      "Masukkan suhu tubuh:  38\n"
     ]
    },
    {
     "name": "stdout",
     "output_type": "stream",
     "text": [
      "Anda demam\n",
      "\n",
      "=====================================\n",
      "\n"
     ]
    },
    {
     "name": "stdin",
     "output_type": "stream",
     "text": [
      "Masukkan suatu bilangan:  dua puluh\n"
     ]
    },
    {
     "name": "stdout",
     "output_type": "stream",
     "text": [
      "Input harus berupa angka.\n",
      "\n",
      "=====================================\n",
      "\n"
     ]
    },
    {
     "name": "stdin",
     "output_type": "stream",
     "text": [
      "Masukkan bilangan pertama:  9\n",
      "Masukkan bilangan kedua:  o\n"
     ]
    },
    {
     "name": "stdout",
     "output_type": "stream",
     "text": [
      "Input tidak valid. Harus berupa angka!\n"
     ]
    }
   ],
   "source": [
    "# Contoh 3.1: Mengecek Demam\n",
    "try:\n",
    "    suhu = int(input(\"Masukkan suhu tubuh: \"))\n",
    "    if suhu >= 38:\n",
    "        print(\"Anda demam\")\n",
    "    else:\n",
    "        print(\"Anda tidak demam\")\n",
    "except ValueError:\n",
    "    print(\"Input tidak valid. Harus berupa angka!\")\n",
    "\n",
    "print(\"\\n=====================================\\n\")\n",
    "\n",
    "# Contoh 3.2: Menentukan bilangan Positif, Negatif atau Nol?\n",
    "try:\n",
    "    bilangan = int(input(\"Masukkan suatu bilangan: \"))\n",
    "    if bilangan > 0:\n",
    "        print(\"Positif\")\n",
    "    elif bilangan < 0:\n",
    "        print(\"Negatif\")\n",
    "    else:\n",
    "        print(\"Nol\")\n",
    "except ValueError:\n",
    "    print(\"Input harus berupa angka.\")\n",
    "\n",
    "print(\"\\n=====================================\\n\")\n",
    "\n",
    "# Contoh 3.3: Menentukan Bilangan Terbesar\n",
    "try:\n",
    "    a = int(input(\"Masukkan bilangan pertama: \"))\n",
    "    b = int(input(\"Masukkan bilangan kedua: \"))\n",
    "    c = int(input(\"Masukkan bilangan ketiga: \"))\n",
    "except ValueError:\n",
    "    print(\"Input tidak valid. Harus berupa angka!\")\n",
    "else:\n",
    "    if a > b and a > c:\n",
    "        print(f\"Terbesar: {a}\")\n",
    "    elif b > a and b > c:\n",
    "        print(f\"Terbesar: {b}\")\n",
    "    elif c > a and c > b:\n",
    "        print(f\"Terbesar: {c}\")"
   ]
  },
  {
   "cell_type": "code",
   "execution_count": 13,
   "id": "9a556660-610f-4785-a0b9-0a6963debcf2",
   "metadata": {},
   "outputs": [
    {
     "name": "stdin",
     "output_type": "stream",
     "text": [
      "Masukkan suatu bilangan:  9\n"
     ]
    },
    {
     "name": "stdout",
     "output_type": "stream",
     "text": [
      "Positif\n"
     ]
    }
   ],
   "source": [
    "#Latihan 2\n",
    "bilangan = int(input(\"Masukkan suatu bilangan: \"))\n",
    "kategori = \"Positif\" if bilangan > 0 else (\"Negatif\" if bilangan < 0 else \"Nol\")\n",
    "print(kategori)"
   ]
  },
  {
   "cell_type": "code",
   "execution_count": 19,
   "id": "5a27575a-5470-416a-9641-1a6d66248ad9",
   "metadata": {},
   "outputs": [
    {
     "name": "stdin",
     "output_type": "stream",
     "text": [
      "Masukkan bulan (1-12):  7\n"
     ]
    },
    {
     "name": "stdout",
     "output_type": "stream",
     "text": [
      "Jumlah hari: 31\n"
     ]
    }
   ],
   "source": [
    "try:\n",
    "    bulan = int(input(\"Masukkan bulan (1-12): \"))\n",
    "    if 1 <= bulan <= 12:\n",
    "        banyak_hari = [31, 29, 31, 30, 31, 30, 31, 31, 30, 31, 30, 31]\n",
    "        print(f\"Jumlah hari: {banyak_hari[bulan - 1]}\")\n",
    "    else:\n",
    "        print(\"Maaf Bulan tidak valid\")\n",
    "except ValueError:\n",
    "    print(\"Bulan tidak valid. Tolong masukkan bulan menggunakan angka dengan rentang 1-12!\")"
   ]
  },
  {
   "cell_type": "code",
   "execution_count": null,
   "id": "89ed59a0-7def-4709-b72a-446da5a42e6d",
   "metadata": {},
   "outputs": [],
   "source": [
    "8\n",
    "9\n",
    "try:\n",
    "    sisi1 = float(input(\"Masukkan sisi 1: \"))\n",
    "    sisi2 = float(input(\"Masukkan sisi 2: \"))\n",
    "    sisi3 = float(input(\"Masukkan sisi 3: \"))\n",
    "except ValueError:\n",
    "    print(\"Input tidak valid. Harap masukkan bilangan.\")\n",
    "else:\n",
    "\n",
    "    sisi_unik = {sisi1, sisi2, sisi3}\n",
    "    \n",
    "    if len(sisi_unik) == 1:\n",
    "        print(\"3 sisi sama\")\n",
    "    elif len(sisi_unik) == 2:\n",
    "        print(\"2 sisi sama\")\n",
    "    else:\n",
    "        print(\"Tidak ada yang sama\")"
   ]
  },
  {
   "cell_type": "code",
   "execution_count": null,
   "id": "b906a0d8-350c-4967-a4a5-448eb993ae0d",
   "metadata": {},
   "outputs": [],
   "source": []
  }
 ],
 "metadata": {
  "kernelspec": {
   "display_name": "Python 3 (ipykernel)",
   "language": "python",
   "name": "python3"
  },
  "language_info": {
   "codemirror_mode": {
    "name": "ipython",
    "version": 3
   },
   "file_extension": ".py",
   "mimetype": "text/x-python",
   "name": "python",
   "nbconvert_exporter": "python",
   "pygments_lexer": "ipython3",
   "version": "3.12.7"
  }
 },
 "nbformat": 4,
 "nbformat_minor": 5
}
